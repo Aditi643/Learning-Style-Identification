{
  "cells": [
    {
      "cell_type": "code",
      "execution_count": null,
      "metadata": {
        "colab": {
          "base_uri": "https://localhost:8080/"
        },
        "id": "8aaYTjvXwJzV",
        "outputId": "4411d039-dfea-409c-b1e5-2e3399e14ffc"
      },
      "outputs": [
        {
          "output_type": "stream",
          "name": "stdout",
          "text": [
            "Original class distribution: 0    523\n",
            "3    427\n",
            "2     43\n",
            "1      7\n",
            "Name: learning_style, dtype: int64\n",
            "Resampled class distribution: 0    523\n",
            "3    523\n",
            "2    523\n",
            "1    523\n",
            "Name: learning_style, dtype: int64\n"
          ]
        }
      ],
      "source": [
        "import pandas as pd\n",
        "from imblearn.over_sampling import SMOTE\n",
        "from sklearn.model_selection import train_test_split\n",
        "\n",
        "# Read the dataset\n",
        "df = pd.read_csv('scaled_X_features.csv')\n",
        "\n",
        "# Separate the features (X) and target variable (y)\n",
        "X = df.drop('learning_style', axis=1)\n",
        "y = df['learning_style']\n",
        "\n",
        "\n",
        "# Create an instance of the SMOTE class\n",
        "smote = SMOTE()\n",
        "\n",
        "# Apply SMOTE on the entire dataset\n",
        "X_resampled, y_resampled = smote.fit_resample(X, y)\n",
        "\n",
        "# Split the data into training and test sets\n",
        "X_train, X_test, y_train, y_test = train_test_split(X_resampled, y_resampled, test_size=0.3, random_state=42)\n",
        "\n",
        "\n",
        "\n",
        "# Print the balanced class distribution\n",
        "print('Original class distribution:', y.value_counts())\n",
        "print('Resampled class distribution:', y_resampled.value_counts())\n"
      ]
    },
    {
      "cell_type": "code",
      "execution_count": null,
      "metadata": {
        "colab": {
          "base_uri": "https://localhost:8080/"
        },
        "id": "JQcSxK8Zwd15",
        "outputId": "4d73f582-211d-40b4-83e3-8ef7637e3826"
      },
      "outputs": [
        {
          "output_type": "stream",
          "name": "stdout",
          "text": [
            "Ensemble Model Accuracy: 0.9554140127388535\n"
          ]
        }
      ],
      "source": [
        "from sklearn.ensemble import VotingClassifier\n",
        "from sklearn.svm import SVC\n",
        "from sklearn.ensemble import RandomForestClassifier\n",
        "from sklearn.metrics import accuracy_score\n",
        "\n",
        "# Define the parameter settings for SVM\n",
        "svm_params = {\n",
        "\n",
        "    'C': 100, 'gamma': 1, 'kernel': 'linear','class_weight': None\n",
        "}\n",
        "\n",
        "# Create the SVM classifier with the specified parameters\n",
        "svm_classifier = SVC(**svm_params)\n",
        "\n",
        "# Define the parameter settings for Random Forest\n",
        "rf_params = {\n",
        "    'max_depth': None, 'max_features': 'sqrt', 'min_samples_leaf': 1, 'min_samples_split': 2, 'n_estimators': 300,'random_state':0\n",
        "}\n",
        "\n",
        "# Create the Random Forest classifier with the specified parameters\n",
        "rf_classifier = RandomForestClassifier(**rf_params)\n",
        "\n",
        "# Create the voting classifier that combines the predictions of the two models\n",
        "voting_classifier = VotingClassifier(\n",
        "    estimators=[('svm', svm_classifier), ('rf', rf_classifier)],\n",
        "    voting='hard'  # or 'soft' for probabilistic voting\n",
        ")\n",
        "\n",
        "# Train the voting classifier on your training data\n",
        "voting_classifier.fit(X_train, y_train)  # Replace X_train and y_train with your actual training data\n",
        "\n",
        "# Make predictions on the test data using the voting classifier\n",
        "y_pred = voting_classifier.predict(X_test)  # Replace X_test with your actual test data\n",
        "\n",
        "# Calculate the accuracy of the ensemble model\n",
        "accuracy = accuracy_score(y_test, y_pred)  # Replace y_test with your actual test labels\n",
        "\n",
        "print(\"Ensemble Model Accuracy:\", accuracy)\n"
      ]
    },
    {
      "cell_type": "code",
      "execution_count": null,
      "metadata": {
        "colab": {
          "base_uri": "https://localhost:8080/"
        },
        "id": "vnQna6pMxMjJ",
        "outputId": "c53688b7-4a8f-432e-9d04-1f4a88a06b8c"
      },
      "outputs": [
        {
          "name": "stdout",
          "output_type": "stream",
          "text": [
            "[[152   0   2   2]\n",
            " [  0 146   0   0]\n",
            " [  0   0 168   0]\n",
            " [ 21   0   5 132]]\n"
          ]
        },
        {
          "data": {
            "text/plain": [
              "0.9522292993630573"
            ]
          },
          "execution_count": 4,
          "metadata": {},
          "output_type": "execute_result"
        }
      ],
      "source": [
        "from sklearn.ensemble import RandomForestClassifier\n",
        "\n",
        "\n",
        "from sklearn.metrics import confusion_matrix, accuracy_score\n",
        "y_pred2 = voting_classifier.predict(X_test)\n",
        "cm = confusion_matrix(y_test, y_pred2)\n",
        "print(cm)\n",
        "accuracy_score(y_test, y_pred2)"
      ]
    },
    {
      "cell_type": "code",
      "execution_count": null,
      "metadata": {
        "id": "xtT66VSVx40p"
      },
      "outputs": [],
      "source": [
        "from sklearn.metrics import accuracy_score, confusion_matrix, ConfusionMatrixDisplay, f1_score"
      ]
    },
    {
      "cell_type": "code",
      "execution_count": null,
      "metadata": {
        "colab": {
          "base_uri": "https://localhost:8080/",
          "height": 536
        },
        "id": "8P2JCEmixY5V",
        "outputId": "fa97faa0-6191-490f-d779-7a9d80c5392d"
      },
      "outputs": [
        {
          "name": "stdout",
          "output_type": "stream",
          "text": [
            "Accuracy of en 0.9522292993630573\n",
            "F1 score of en 0.95291936258526\n",
            "\n",
            "\n"
          ]
        },
        {
          "data": {
            "text/plain": [
              "<sklearn.metrics._plot.confusion_matrix.ConfusionMatrixDisplay at 0x7f857c6c3a30>"
            ]
          },
          "execution_count": 6,
          "metadata": {},
          "output_type": "execute_result"
        },
        {
          "data": {
            "image/png": "[encoded data removed]",
            "text/plain": [
              "<Figure size 640x480 with 2 Axes>"
            ]
          },
          "metadata": {},
          "output_type": "display_data"
        }
      ],
      "source": [
        "\n",
        "pred_en=voting_classifier.predict(X_test)\n",
        "score_en=accuracy_score(y_test,y_pred2)\n",
        "f1_en = f1_score(y_pred2, y_test, average=\"weighted\")\n",
        "\n",
        "print('Accuracy of en',score_en)\n",
        "print('F1 score of en',f1_en)\n",
        "print(\"\\n\")\n",
        "\n",
        "cm = confusion_matrix(y_test, pred_en, labels=voting_classifier.classes_)\n",
        "disp = ConfusionMatrixDisplay(confusion_matrix=cm,display_labels=voting_classifier.classes_)\n",
        "disp.plot()"
      ]
    },
    {
      "cell_type": "code",
      "execution_count": null,
      "metadata": {
        "colab": {
          "base_uri": "https://localhost:8080/"
        },
        "id": "gHUo6NGZyF9L",
        "outputId": "9e9087f8-a336-4ad0-a439-8af0eb3ca922"
      },
      "outputs": [
        {
          "name": "stdout",
          "output_type": "stream",
          "text": [
            "Cross-validation scores: [0.93515358 0.94539249 0.93174061 0.94539249 0.95205479]\n",
            "Mean accuracy: 0.941946795081584\n",
            "Accuracy: 94.19 %\n",
            "Standard Deviation: 0.74 %\n"
          ]
        }
      ],
      "source": [
        "from sklearn.model_selection import cross_val_score\n",
        "\n",
        "\n",
        "\n",
        "\n",
        "\n",
        "# Perform cross-validation\n",
        "cv_scores = cross_val_score(voting_classifier, X_train, y_train, cv=5)\n",
        "\n",
        "# Print the accuracy scores for each fold\n",
        "print(\"Cross-validation scores:\", cv_scores)\n",
        "\n",
        "# Compute the mean accuracy across all folds\n",
        "mean_accuracy = cv_scores.mean()\n",
        "print(\"Mean accuracy:\", mean_accuracy)\n",
        "\n",
        "print(\"Accuracy: {:.2f} %\".format(cv_scores.mean()*100))\n",
        "print(\"Standard Deviation: {:.2f} %\".format(cv_scores.std()*100))\n"
      ]
    },
    {
      "cell_type": "code",
      "execution_count": null,
      "metadata": {
        "colab": {
          "base_uri": "https://localhost:8080/"
        },
        "id": "NM33neZtyXjM",
        "outputId": "b1c02d4b-2eba-4057-e1b3-63d30a9e4116"
      },
      "outputs": [
        {
          "name": "stdout",
          "output_type": "stream",
          "text": [
            "              precision    recall  f1-score   support\n",
            "\n",
            "           0       0.88      0.97      0.92       156\n",
            "           1       1.00      1.00      1.00       146\n",
            "           2       0.96      1.00      0.98       168\n",
            "           3       0.99      0.84      0.90       158\n",
            "\n",
            "    accuracy                           0.95       628\n",
            "   macro avg       0.96      0.95      0.95       628\n",
            "weighted avg       0.96      0.95      0.95       628\n",
            "\n"
          ]
        }
      ],
      "source": [
        "from sklearn.metrics import classification_report\n",
        "\n",
        "# Assuming you have predicted labels stored in `y_pred` and true labels stored in `y_true`\n",
        "print(classification_report(y_test, y_pred2, zero_division=0))\n"
      ]
    },
    {
      "cell_type": "code",
      "execution_count": null,
      "metadata": {
        "colab": {
          "base_uri": "https://localhost:8080/"
        },
        "id": "w8BjV9apyEzZ",
        "outputId": "e0b71ebc-3448-4b5c-d5a0-5d51e7d3b23c"
      },
      "outputs": [
        {
          "name": "stdout",
          "output_type": "stream",
          "text": [
            "Predicted target label: 1\n"
          ]
        },
        {
          "name": "stderr",
          "output_type": "stream",
          "text": [
            "/usr/local/lib/python3.10/dist-packages/sklearn/base.py:439: UserWarning: X does not have valid feature names, but SVC was fitted with feature names\n",
            "  warnings.warn(\n",
            "/usr/local/lib/python3.10/dist-packages/sklearn/base.py:439: UserWarning: X does not have valid feature names, but RandomForestClassifier was fitted with feature names\n",
            "  warnings.warn(\n"
          ]
        }
      ],
      "source": [
        "import numpy as np\n",
        "\n",
        "# Assuming you have a trained model named 'model'\n",
        "\n",
        "# Input features as a single list\n",
        "input_features = [0.1\t,0.35\t,0.1\t,0.6\t,0.1\t,0.5\t,0.916666667\t,0.75,\t0.794117647\t,0.635555556\t,0.166666667\t,0.5\t,0.266666667\t,0.846666667\t,0\t,0.072\t,0.28]\n",
        "\n",
        "# Convert the input features to a NumPy array and reshape it to match the model's input shape\n",
        "input_features = np.array(input_features).reshape(1, -1)\n",
        "\n",
        "# Make predictions on the input features\n",
        "prediction = voting_classifier.predict(input_features)\n",
        "\n",
        "# Print the predicted target label\n",
        "print(\"Predicted target label:\", prediction[0])\n"
      ]
    },
    {
      "cell_type": "code",
      "execution_count": null,
      "metadata": {
        "colab": {
          "base_uri": "https://localhost:8080/"
        },
        "id": "B7tsjp3-zaE6",
        "outputId": "545aec86-877b-4069-9240-69cf0e5d5be2"
      },
      "outputs": [
        {
          "output_type": "stream",
          "name": "stdout",
          "text": [
            "Enter value for Amount of time spent by learners interacting with images: 13\n",
            "Enter value for Amount of time spent on video related materials: 20\n",
            "Enter value for Amount of time spent on text based material: 16\n",
            "Enter value for Amount of time spent on audio related materials: 47\n",
            "Enter value for complexity or depth of the learning material: 31\n",
            "Enter value for Frequency of PowerPoint usage: 20\n",
            "Enter value for Concrete contents: 8\n",
            "Enter value for Performance or achievement of the learner : 7\n",
            "Enter value for Number of correctly answered standard questions: 6\n",
            "Enter value for Number of messages or posts posted by the learner: 5\n",
            "Enter value for Time or duration spent by the learner in solving exercises: 23\n",
            "Enter value for Number of group discussions: 33\n",
            "Enter value for Number of lessons of learning objectives skipped: 25\n",
            "Enter value for Number of times the learner utilized the Next button: 28\n",
            "Enter value for Amount of Time Spent in sessions: 29\n",
            "Enter value for  Number of questions on topics: 13\n",
            "Enter value for Number of questions or queries posed by the learner: 14\n",
            "Predicted target label: Perception\n"
          ]
        },
        {
          "output_type": "stream",
          "name": "stderr",
          "text": [
            "/usr/local/lib/python3.10/dist-packages/sklearn/base.py:439: UserWarning: X does not have valid feature names, but SVC was fitted with feature names\n",
            "  warnings.warn(\n",
            "/usr/local/lib/python3.10/dist-packages/sklearn/base.py:439: UserWarning: X does not have valid feature names, but RandomForestClassifier was fitted with feature names\n",
            "  warnings.warn(\n"
          ]
        }
      ],
      "source": [
        "import numpy as np\n",
        "\n",
        "# Assuming you have already trained and saved your classifier as 'classifier.pkl'\n",
        "import joblib\n",
        "\n",
        "# Load the pickled model\n",
        "classifier = joblib.load('model.pkl')\n",
        "\n",
        "# Define the names of your input features\n",
        "feature_names = ['Amount of time spent by learners interacting with images', 'Amount of time spent on video related materials', 'Amount of time spent on text based material', 'Amount of time spent on audio related materials', 'complexity or depth of the learning material', 'Frequency of PowerPoint usage', 'Concrete contents', 'Performance or achievement of the learner ', 'Number of correctly answered standard questions','Number of messages or posts posted by the learner','Time or duration spent by the learner in solving exercises','Number of group discussions','Number of lessons of learning objectives skipped','Number of times the learner utilized the Next button','Amount of Time Spent in sessions',' Number of questions on topics','Number of questions or queries posed by the learner']\n",
        "\n",
        "# Get input feature values from the user\n",
        "input_features = []\n",
        "for i in range(len(feature_names)):\n",
        "    value = float(input(f\"Enter value for {feature_names[i]}: \"))\n",
        "    input_features.append(value)\n",
        "\n",
        "# Convert input features to a numpy array\n",
        "input_features = np.array(input_features).reshape(1, -1)\n",
        "\n",
        "\n",
        "\n",
        "target_label = classifier.predict(input_features)\n",
        "\n",
        "# Create a dictionary to map the numeric labels to their corresponding labels\n",
        "label_mapping = {0: 'Processing', 1: 'Understanding', 2: 'Input', 3: 'Perception'}\n",
        "\n",
        "# Print the predicted target label with its corresponding label\n",
        "predicted_label = label_mapping[target_label[0]]\n",
        "print(\"Predicted target label:\", predicted_label)\n"
      ]
    },
    {
      "cell_type": "code",
      "source": [
        "import numpy as np\n",
        "from sklearn.preprocessing import MinMaxScaler\n",
        "import joblib\n",
        "\n",
        "# Load the pickled model\n",
        "classifier = joblib.load('model.pkl')\n",
        "\n",
        "# Define the names of your input features\n",
        "feature_names = ['Amount of time spent by learners interacting with images', 'Amount of time spent on video related materials', 'Amount of time spent on text based material', 'Amount of time spent on audio related materials', 'complexity or depth of the learning material', 'Frequency of PowerPoint usage', 'Concrete contents', 'Performance or achievement of the learner ', 'Number of correctly answered standard questions','Number of messages or posts posted by the learner','Time or duration spent by the learner in solving exercises','Number of group discussions','Number of lessons of learning objectives skipped','Number of times the learner utilized the Next button','Amount of Time Spent in sessions',' Number of questions on topics','Number of questions or queries posed by the learner']\n",
        "\n",
        "# Get input feature values from the user\n",
        "input_features = []\n",
        "for i in range(len(feature_names)):\n",
        "    value = float(input(f\"Enter value for {feature_names[i]}: \"))\n",
        "    input_features.append(value)\n",
        "\n",
        "# Convert input features to a numpy array\n",
        "input_features = np.array(input_features).reshape(1, -1)\n",
        "\n",
        "# Scale the input features using MinMaxScaler\n",
        "scaler = MinMaxScaler()\n",
        "scaled_input_features = scaler.fit_transform(input_features)\n",
        "\n",
        "# Predict the target label for the scaled input features\n",
        "target_label = classifier.predict(scaled_input_features)\n",
        "\n",
        "# Create a dictionary to map the numeric labels to their corresponding labels\n",
        "label_mapping = {0: 'Processing', 1: 'Understanding', 2: 'Input', 3: 'Perception'}\n",
        "\n",
        "# Print the predicted target label with its corresponding label\n",
        "predicted_label = label_mapping[target_label[0]]\n",
        "print(\"Predicted target label:\", predicted_label)\n"
      ],
      "metadata": {
        "colab": {
          "base_uri": "https://localhost:8080/"
        },
        "id": "KMkZlzr1X5zr",
        "outputId": "8a6b6736-6003-409e-ae26-e5f0a140afec"
      },
      "execution_count": null,
      "outputs": [
        {
          "output_type": "stream",
          "name": "stdout",
          "text": [
            "Enter value for Amount of time spent by learners interacting with images: 40\n",
            "Enter value for Amount of time spent on video related materials: 40\n",
            "Enter value for Amount of time spent on text based material: 40\n",
            "Enter value for Amount of time spent on audio related materials: 40\n",
            "Enter value for complexity or depth of the learning material: 10\n",
            "Enter value for Frequency of PowerPoint usage: 28\n",
            "Enter value for Concrete contents: 10\n",
            "Enter value for Performance or achievement of the learner : 13\n",
            "Enter value for Number of correctly answered standard questions: 14\n",
            "Enter value for Number of messages or posts posted by the learner: 13\n",
            "Enter value for Time or duration spent by the learner in solving exercises: 25\n",
            "Enter value for Number of group discussions: 18\n",
            "Enter value for Number of lessons of learning objectives skipped: 23\n",
            "Enter value for Number of times the learner utilized the Next button: 24\n",
            "Enter value for Amount of Time Spent in sessions: 25\n",
            "Enter value for  Number of questions on topics: 18\n",
            "Enter value for Number of questions or queries posed by the learner: 19\n",
            "Predicted target label: Processing\n"
          ]
        },
        {
          "output_type": "stream",
          "name": "stderr",
          "text": [
            "/usr/local/lib/python3.10/dist-packages/sklearn/base.py:439: UserWarning: X does not have valid feature names, but SVC was fitted with feature names\n",
            "  warnings.warn(\n",
            "/usr/local/lib/python3.10/dist-packages/sklearn/base.py:439: UserWarning: X does not have valid feature names, but RandomForestClassifier was fitted with feature names\n",
            "  warnings.warn(\n"
          ]
        }
      ]
    },
    {
      "cell_type": "code",
      "source": [
        "import numpy as np\n",
        "import joblib\n",
        "from sklearn.preprocessing import MinMaxScaler\n",
        "\n",
        "# Load the pickled model\n",
        "classifier = joblib.load('model.pkl')\n",
        "\n",
        "# Define the names of your input features\n",
        "feature_names = ['Amount of time spent by learners interacting with images', 'Amount of time spent on video related materials', 'Amount of time spent on text based material', 'Amount of time spent on audio related materials', 'complexity or depth of the learning material', 'Frequency of PowerPoint usage', 'Concrete contents', 'Performance or achievement of the learner ', 'Number of correctly answered standard questions','Number of messages or posts posted by the learner','Time or duration spent by the learner in solving exercises','Number of group discussions','Number of lessons of learning objectives skipped','Number of times the learner utilized the Next button','Amount of Time Spent in sessions',' Number of questions on topics','Number of questions or queries posed by the learner']\n",
        "\n",
        "# Get input feature values from the user\n",
        "input_features = []\n",
        "for i in range(len(feature_names)):\n",
        "    value = float(input(f\"Enter value for {feature_names[i]}: \"))\n",
        "    input_features.append(value)\n",
        "\n",
        "# Convert input features to a numpy array\n",
        "input_features = np.array(input_features).reshape(1, -1)\n",
        "\n",
        "# Load the scaler\n",
        "scaler = MinMaxScaler()\n",
        "\n",
        "# Fit the scaler on the X_train dataset\n",
        "scaler.fit(X_train)\n",
        "\n",
        "# Scale the input features\n",
        "scaled_input_features = scaler.transform(input_features)\n",
        "\n",
        "# Predict the target label for the scaled input features\n",
        "target_label = classifier.predict(scaled_input_features)\n",
        "\n",
        "# Create a dictionary to map the numeric labels to their corresponding labels\n",
        "label_mapping = {0: 'Processing', 1: 'Understanding', 2: 'Input', 3: 'Perception'}\n",
        "\n",
        "# Print the predicted target label with its corresponding label\n",
        "predicted_label = label_mapping[target_label[0]]\n",
        "print(\"Predicted target label:\", predicted_label)\n"
      ],
      "metadata": {
        "colab": {
          "base_uri": "https://localhost:8080/"
        },
        "id": "y12XmS-MY2hm",
        "outputId": "6c1fb4dc-4757-4fd6-a26a-48c4e8b44d2b"
      },
      "execution_count": null,
      "outputs": [
        {
          "output_type": "stream",
          "name": "stdout",
          "text": [
            "Enter value for Amount of time spent by learners interacting with images: 5\n",
            "Enter value for Amount of time spent on video related materials: 9\n",
            "Enter value for Amount of time spent on text based material: 0\n",
            "Enter value for Amount of time spent on audio related materials: 10\n",
            "Enter value for complexity or depth of the learning material: 0\n",
            "Enter value for Frequency of PowerPoint usage: 0\n",
            "Enter value for Concrete contents: 0\n",
            "Enter value for Performance or achievement of the learner : 0\n",
            "Enter value for Number of correctly answered standard questions: 0\n",
            "Enter value for Number of messages or posts posted by the learner: 0\n",
            "Enter value for Time or duration spent by the learner in solving exercises: 0\n",
            "Enter value for Number of group discussions: 0\n",
            "Enter value for Number of lessons of learning objectives skipped: 20\n",
            "Enter value for Number of times the learner utilized the Next button: 0\n",
            "Enter value for Amount of Time Spent in sessions: 0\n",
            "Enter value for  Number of questions on topics: 0\n",
            "Enter value for Number of questions or queries posed by the learner: 0\n",
            "Predicted target label: Processing\n"
          ]
        },
        {
          "output_type": "stream",
          "name": "stderr",
          "text": [
            "/usr/local/lib/python3.10/dist-packages/sklearn/base.py:439: UserWarning: X does not have valid feature names, but MinMaxScaler was fitted with feature names\n",
            "  warnings.warn(\n",
            "/usr/local/lib/python3.10/dist-packages/sklearn/base.py:439: UserWarning: X does not have valid feature names, but SVC was fitted with feature names\n",
            "  warnings.warn(\n",
            "/usr/local/lib/python3.10/dist-packages/sklearn/base.py:439: UserWarning: X does not have valid feature names, but RandomForestClassifier was fitted with feature names\n",
            "  warnings.warn(\n"
          ]
        }
      ]
    },
    {
      "cell_type": "code",
      "execution_count": null,
      "metadata": {
        "colab": {
          "base_uri": "https://localhost:8080/",
          "height": 759
        },
        "id": "peDJAsFt7pOg",
        "outputId": "0af0c88c-a7e4-42f6-db17-390b260ff1d5"
      },
      "outputs": [
        {
          "output_type": "display_data",
          "data": {
            "text/plain": [
              "<Figure size 1000x600 with 1 Axes>"
            ],
            "image/png": "[encoded data removed]"
          },
          "metadata": {}
        }
      ],
      "source": [
        "from sklearn.svm import SVC\n",
        "import numpy as np\n",
        "import matplotlib.pyplot as plt\n",
        "\n",
        "# Train the SVM classifier\n",
        "model = SVC(C= 100, gamma= 1, kernel= 'linear',class_weight=None)\n",
        " #'C': 100, 'gamma': 1, 'kernel': 'rbf','class_weight': None\n",
        "model.fit(X_train, y_train)\n",
        "\n",
        "# Get the absolute magnitudes of the coefficients for each class\n",
        "coefficients = np.abs(model.coef_)\n",
        "class_names = model.classes_\n",
        "\n",
        "# Plot the coefficients for each class\n",
        "plt.figure(figsize=(10, 6))\n",
        "for i, class_name in enumerate(class_names):\n",
        "    sorted_indices = coefficients[i].argsort()[::-1]\n",
        "    sorted_coefficients = coefficients[i][sorted_indices]\n",
        "    feature_names = X.columns[sorted_indices]\n",
        "    plt.bar(feature_names, sorted_coefficients, label=f\"Class {class_name}\")\n",
        "\n",
        "plt.xticks(rotation=90)\n",
        "plt.xlabel('Features')\n",
        "plt.ylabel('Magnitude')\n",
        "plt.title('SVM Coefficient Magnitudes')\n",
        "plt.legend()\n",
        "plt.show()\n"
      ]
    },
    {
      "cell_type": "code",
      "source": [
        "import pandas as pd\n",
        "from imblearn.over_sampling import SMOTE\n",
        "from sklearn.model_selection import train_test_split\n",
        "\n",
        "# Read the dataset\n",
        "df = pd.read_csv('scaled_X_features.csv')\n",
        "\n",
        "# Separate the features (X) and target variable (y)\n",
        "X = df.drop('learning_style', axis=1)\n",
        "y = df['learning_style']\n",
        "\n",
        "\n",
        "\n",
        "\n",
        "\n",
        "\n",
        "# Split the data into training and test sets\n",
        "X_train, X_test, y_train, y_test = train_test_split(X, y, test_size=0.3, random_state=42)\n",
        "\n",
        "\n",
        "\n",
        "import numpy as np\n",
        "import joblib\n",
        "from sklearn.preprocessing import MinMaxScaler\n",
        "\n",
        "# Load the pickled model\n",
        "classifier = joblib.load('model.pkl')\n",
        "\n",
        "# Define the names of your input features\n",
        "feature_names = ['Amount of time spent by learners interacting with images', 'Amount of time spent on video related materials', 'Amount of time spent on text based material', 'Amount of time spent on audio related materials', 'complexity or depth of the learning material', 'Frequency of PowerPoint usage', 'Concrete contents', 'Performance or achievement of the learner ', 'Number of correctly answered standard questions','Number of messages or posts posted by the learner','Time or duration spent by the learner in solving exercises','Number of group discussions','Number of lessons of learning objectives skipped','Number of times the learner utilized the Next button','Amount of Time Spent in sessions',' Number of questions on topics','Number of questions or queries posed by the learner']\n",
        "\n",
        "# Get input feature values from the user\n",
        "input_features = []\n",
        "for i in range(len(feature_names)):\n",
        "    value = float(input(f\"Enter value for {feature_names[i]}: \"))\n",
        "    input_features.append(value)\n",
        "\n",
        "# Convert input features to a numpy array\n",
        "input_features = np.array(input_features).reshape(1, -1)\n",
        "\n",
        "# Load the scaler\n",
        "scaler = MinMaxScaler()\n",
        "\n",
        "# Fit the scaler on the X_train dataset\n",
        "scaler.fit(X_train)\n",
        "\n",
        "# Scale the input features\n",
        "scaled_input_features = scaler.transform(input_features)\n",
        "\n",
        "# Predict the target label for the scaled input features\n",
        "target_label = classifier.predict(scaled_input_features)\n",
        "\n",
        "# Create a dictionary to map the numeric labels to their corresponding labels\n",
        "label_mapping = {0: 'Processing', 1: 'Understanding', 2: 'Input', 3: 'Perception'}\n",
        "\n",
        "# Print the predicted target label with its corresponding label\n",
        "predicted_label = label_mapping[target_label[0]]\n",
        "print(\"Predicted target label:\", predicted_label)\n"
      ],
      "metadata": {
        "colab": {
          "base_uri": "https://localhost:8080/"
        },
        "id": "EM3CwmdpnpH_",
        "outputId": "d03b42e1-360f-4b73-b4e0-84bea389dcf7"
      },
      "execution_count": null,
      "outputs": [
        {
          "output_type": "stream",
          "name": "stdout",
          "text": [
            "Enter value for Amount of time spent by learners interacting with images: 23\n",
            "Enter value for Amount of time spent on video related materials: 0\n",
            "Enter value for Amount of time spent on text based material: 1\n",
            "Enter value for Amount of time spent on audio related materials: 4\n",
            "Enter value for complexity or depth of the learning material: 3\n",
            "Enter value for Frequency of PowerPoint usage: 2\n",
            "Enter value for Concrete contents: 5\n",
            "Enter value for Performance or achievement of the learner : 8\n",
            "Enter value for Number of correctly answered standard questions: 4\n",
            "Enter value for Number of messages or posts posted by the learner: 3\n",
            "Enter value for Time or duration spent by the learner in solving exercises: 2\n",
            "Enter value for Number of group discussions: 3\n",
            "Enter value for Number of lessons of learning objectives skipped: 8\n",
            "Enter value for Number of times the learner utilized the Next button: 7\n",
            "Enter value for Amount of Time Spent in sessions: 4\n",
            "Enter value for  Number of questions on topics: 6\n",
            "Enter value for Number of questions or queries posed by the learner: 3\n",
            "Predicted target label: Perception\n"
          ]
        },
        {
          "output_type": "stream",
          "name": "stderr",
          "text": [
            "/usr/local/lib/python3.10/dist-packages/sklearn/base.py:439: UserWarning: X does not have valid feature names, but MinMaxScaler was fitted with feature names\n",
            "  warnings.warn(\n",
            "/usr/local/lib/python3.10/dist-packages/sklearn/base.py:439: UserWarning: X does not have valid feature names, but SVC was fitted with feature names\n",
            "  warnings.warn(\n",
            "/usr/local/lib/python3.10/dist-packages/sklearn/base.py:439: UserWarning: X does not have valid feature names, but RandomForestClassifier was fitted with feature names\n",
            "  warnings.warn(\n"
          ]
        }
      ]
    }
  ],
  "metadata": {
    "colab": {
      "provenance": []
    },
    "kernelspec": {
      "display_name": "Python 3",
      "name": "python3"
    },
    "language_info": {
      "name": "python"
    }
  },
  "nbformat": 4,
  "nbformat_minor": 0
}